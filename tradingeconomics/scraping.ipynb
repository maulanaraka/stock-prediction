{
 "cells": [
  {
   "cell_type": "code",
   "execution_count": 1,
   "id": "365b039c",
   "metadata": {},
   "outputs": [],
   "source": [
    "# %pip install tradingeconomics"
   ]
  },
  {
   "cell_type": "code",
   "execution_count": 2,
   "id": "7a6ae44b",
   "metadata": {},
   "outputs": [
    {
     "data": {
      "text/plain": [
       "'Logged with guest'"
      ]
     },
     "execution_count": 2,
     "metadata": {},
     "output_type": "execute_result"
    }
   ],
   "source": [
    "import tradingeconomics as te\n",
    "te.login('guest:guest')"
   ]
  },
  {
   "cell_type": "code",
   "execution_count": null,
   "id": "3392beac",
   "metadata": {},
   "outputs": [],
   "source": [
    "te.getCalendarData()\n",
    "te.getIndicatorData(country=['indonesia'], output_type='df')\n",
    "te.getMarketsData(marketsField = 'commodities')\n",
    "te.getMarketsBySymbol(symbols='bbca:id')\n",
    "te.getFinancialsData(symbol = 'bbca:id', output_type = 'df')"
   ]
  }
 ],
 "metadata": {
  "kernelspec": {
   "display_name": ".venv",
   "language": "python",
   "name": "python3"
  },
  "language_info": {
   "codemirror_mode": {
    "name": "ipython",
    "version": 3
   },
   "file_extension": ".py",
   "mimetype": "text/x-python",
   "name": "python",
   "nbconvert_exporter": "python",
   "pygments_lexer": "ipython3",
   "version": "3.11.3"
  }
 },
 "nbformat": 4,
 "nbformat_minor": 5
}
