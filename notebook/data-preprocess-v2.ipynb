{
 "cells": [
  {
   "cell_type": "markdown",
   "id": "c4f8a46d",
   "metadata": {},
   "source": [
    "# Config"
   ]
  },
  {
   "cell_type": "code",
   "execution_count": null,
   "id": "393f9c27",
   "metadata": {},
   "outputs": [],
   "source": [
    "# %pip install scikit-learn\n",
    "# %pip install seaborn\n",
    "# %pip install matplotlib"
   ]
  },
  {
   "cell_type": "code",
   "execution_count": 2,
   "id": "259c985c",
   "metadata": {},
   "outputs": [],
   "source": [
    "import pandas as pd\n",
    "from sklearn.feature_extraction.text import TfidfVectorizer\n",
    "from sklearn.linear_model import LinearRegression\n",
    "from sklearn.model_selection import train_test_split\n",
    "from sklearn.pipeline import FeatureUnion, Pipeline\n",
    "from sklearn.preprocessing import FunctionTransformer, StandardScaler\n",
    "import numpy as np\n",
    "import seaborn as sns\n",
    "import matplotlib.pyplot as plt"
   ]
  },
  {
   "cell_type": "code",
   "execution_count": 6,
   "id": "a06f5205",
   "metadata": {},
   "outputs": [
    {
     "name": "stderr",
     "output_type": "stream",
     "text": [
      "<>:2: SyntaxWarning: invalid escape sequence '\\d'\n",
      "<>:3: SyntaxWarning: invalid escape sequence '\\d'\n",
      "<>:4: SyntaxWarning: invalid escape sequence '\\d'\n",
      "<>:2: SyntaxWarning: invalid escape sequence '\\d'\n",
      "<>:3: SyntaxWarning: invalid escape sequence '\\d'\n",
      "<>:4: SyntaxWarning: invalid escape sequence '\\d'\n",
      "C:\\Users\\maula\\AppData\\Local\\Temp\\ipykernel_45924\\2787151672.py:2: SyntaxWarning: invalid escape sequence '\\d'\n",
      "  stock = pd.read_csv(\"..\\data\\stocks.csv\")\n",
      "C:\\Users\\maula\\AppData\\Local\\Temp\\ipykernel_45924\\2787151672.py:3: SyntaxWarning: invalid escape sequence '\\d'\n",
      "  detail = pd.read_csv(\"..\\data\\DaftarSaham.csv\")\n",
      "C:\\Users\\maula\\AppData\\Local\\Temp\\ipykernel_45924\\2787151672.py:4: SyntaxWarning: invalid escape sequence '\\d'\n",
      "  news = pd.read_csv(\"..\\data\\indonesian-news-title.csv\")\n"
     ]
    }
   ],
   "source": [
    "#read the data \n",
    "stock = pd.read_csv(\"..\\data\\stocks.csv\")\n",
    "# detail = pd.read_csv(\"..\\data\\DaftarSaham.csv\")\n",
    "news = pd.read_csv(\"..\\data\\indonesian-news-title.csv\")"
   ]
  },
  {
   "cell_type": "markdown",
   "id": "e99ec2c2",
   "metadata": {},
   "source": [
    "# Data Understanding"
   ]
  },
  {
   "cell_type": "markdown",
   "id": "0058abfc",
   "metadata": {},
   "source": [
    "## Stock Data"
   ]
  },
  {
   "cell_type": "code",
   "execution_count": 10,
   "id": "ac25012b",
   "metadata": {},
   "outputs": [
    {
     "data": {
      "text/html": [
       "<div>\n",
       "<style scoped>\n",
       "    .dataframe tbody tr th:only-of-type {\n",
       "        vertical-align: middle;\n",
       "    }\n",
       "\n",
       "    .dataframe tbody tr th {\n",
       "        vertical-align: top;\n",
       "    }\n",
       "\n",
       "    .dataframe thead th {\n",
       "        text-align: right;\n",
       "    }\n",
       "</style>\n",
       "<table border=\"1\" class=\"dataframe\">\n",
       "  <thead>\n",
       "    <tr style=\"text-align: right;\">\n",
       "      <th></th>\n",
       "      <th>datetime</th>\n",
       "      <th>symbol</th>\n",
       "      <th>open</th>\n",
       "      <th>high</th>\n",
       "      <th>low</th>\n",
       "      <th>close</th>\n",
       "      <th>volume</th>\n",
       "    </tr>\n",
       "  </thead>\n",
       "  <tbody>\n",
       "    <tr>\n",
       "      <th>0</th>\n",
       "      <td>2005-06-30 02:00:00</td>\n",
       "      <td>IDX:AALI</td>\n",
       "      <td>3111.92455</td>\n",
       "      <td>3131.620275</td>\n",
       "      <td>3111.924550</td>\n",
       "      <td>3131.620275</td>\n",
       "      <td>1580926.0</td>\n",
       "    </tr>\n",
       "    <tr>\n",
       "      <th>1</th>\n",
       "      <td>2005-07-01 02:00:00</td>\n",
       "      <td>IDX:AALI</td>\n",
       "      <td>3111.92455</td>\n",
       "      <td>3111.924550</td>\n",
       "      <td>3072.533100</td>\n",
       "      <td>3092.228825</td>\n",
       "      <td>901210.0</td>\n",
       "    </tr>\n",
       "    <tr>\n",
       "      <th>2</th>\n",
       "      <td>2005-07-04 02:00:00</td>\n",
       "      <td>IDX:AALI</td>\n",
       "      <td>3072.53310</td>\n",
       "      <td>3072.533100</td>\n",
       "      <td>2993.750200</td>\n",
       "      <td>3033.141650</td>\n",
       "      <td>3226588.0</td>\n",
       "    </tr>\n",
       "    <tr>\n",
       "      <th>3</th>\n",
       "      <td>2005-07-05 02:00:00</td>\n",
       "      <td>IDX:AALI</td>\n",
       "      <td>3033.14165</td>\n",
       "      <td>3033.141650</td>\n",
       "      <td>3013.445925</td>\n",
       "      <td>3013.445925</td>\n",
       "      <td>1928718.0</td>\n",
       "    </tr>\n",
       "    <tr>\n",
       "      <th>4</th>\n",
       "      <td>2005-07-06 02:00:00</td>\n",
       "      <td>IDX:AALI</td>\n",
       "      <td>3033.14165</td>\n",
       "      <td>3072.533100</td>\n",
       "      <td>3033.141650</td>\n",
       "      <td>3052.837375</td>\n",
       "      <td>1632333.0</td>\n",
       "    </tr>\n",
       "    <tr>\n",
       "      <th>...</th>\n",
       "      <td>...</td>\n",
       "      <td>...</td>\n",
       "      <td>...</td>\n",
       "      <td>...</td>\n",
       "      <td>...</td>\n",
       "      <td>...</td>\n",
       "      <td>...</td>\n",
       "    </tr>\n",
       "    <tr>\n",
       "      <th>2061650</th>\n",
       "      <td>2025-06-30 02:00:00</td>\n",
       "      <td>IDX:DKHH</td>\n",
       "      <td>68.00000</td>\n",
       "      <td>69.000000</td>\n",
       "      <td>67.000000</td>\n",
       "      <td>68.000000</td>\n",
       "      <td>2830200.0</td>\n",
       "    </tr>\n",
       "    <tr>\n",
       "      <th>2061651</th>\n",
       "      <td>2025-07-01 02:00:00</td>\n",
       "      <td>IDX:DKHH</td>\n",
       "      <td>68.00000</td>\n",
       "      <td>70.000000</td>\n",
       "      <td>66.000000</td>\n",
       "      <td>67.000000</td>\n",
       "      <td>16945500.0</td>\n",
       "    </tr>\n",
       "    <tr>\n",
       "      <th>2061652</th>\n",
       "      <td>2025-07-02 02:00:00</td>\n",
       "      <td>IDX:DKHH</td>\n",
       "      <td>67.00000</td>\n",
       "      <td>68.000000</td>\n",
       "      <td>65.000000</td>\n",
       "      <td>67.000000</td>\n",
       "      <td>12171700.0</td>\n",
       "    </tr>\n",
       "    <tr>\n",
       "      <th>2061653</th>\n",
       "      <td>2025-07-03 02:00:00</td>\n",
       "      <td>IDX:DKHH</td>\n",
       "      <td>66.00000</td>\n",
       "      <td>67.000000</td>\n",
       "      <td>64.000000</td>\n",
       "      <td>65.000000</td>\n",
       "      <td>14762400.0</td>\n",
       "    </tr>\n",
       "    <tr>\n",
       "      <th>2061654</th>\n",
       "      <td>2025-07-04 02:00:00</td>\n",
       "      <td>IDX:DKHH</td>\n",
       "      <td>65.00000</td>\n",
       "      <td>66.000000</td>\n",
       "      <td>62.000000</td>\n",
       "      <td>62.000000</td>\n",
       "      <td>18869500.0</td>\n",
       "    </tr>\n",
       "  </tbody>\n",
       "</table>\n",
       "<p>2061655 rows × 7 columns</p>\n",
       "</div>"
      ],
      "text/plain": [
       "                    datetime    symbol        open         high          low  \\\n",
       "0        2005-06-30 02:00:00  IDX:AALI  3111.92455  3131.620275  3111.924550   \n",
       "1        2005-07-01 02:00:00  IDX:AALI  3111.92455  3111.924550  3072.533100   \n",
       "2        2005-07-04 02:00:00  IDX:AALI  3072.53310  3072.533100  2993.750200   \n",
       "3        2005-07-05 02:00:00  IDX:AALI  3033.14165  3033.141650  3013.445925   \n",
       "4        2005-07-06 02:00:00  IDX:AALI  3033.14165  3072.533100  3033.141650   \n",
       "...                      ...       ...         ...          ...          ...   \n",
       "2061650  2025-06-30 02:00:00  IDX:DKHH    68.00000    69.000000    67.000000   \n",
       "2061651  2025-07-01 02:00:00  IDX:DKHH    68.00000    70.000000    66.000000   \n",
       "2061652  2025-07-02 02:00:00  IDX:DKHH    67.00000    68.000000    65.000000   \n",
       "2061653  2025-07-03 02:00:00  IDX:DKHH    66.00000    67.000000    64.000000   \n",
       "2061654  2025-07-04 02:00:00  IDX:DKHH    65.00000    66.000000    62.000000   \n",
       "\n",
       "               close      volume  \n",
       "0        3131.620275   1580926.0  \n",
       "1        3092.228825    901210.0  \n",
       "2        3033.141650   3226588.0  \n",
       "3        3013.445925   1928718.0  \n",
       "4        3052.837375   1632333.0  \n",
       "...              ...         ...  \n",
       "2061650    68.000000   2830200.0  \n",
       "2061651    67.000000  16945500.0  \n",
       "2061652    67.000000  12171700.0  \n",
       "2061653    65.000000  14762400.0  \n",
       "2061654    62.000000  18869500.0  \n",
       "\n",
       "[2061655 rows x 7 columns]"
      ]
     },
     "execution_count": 10,
     "metadata": {},
     "output_type": "execute_result"
    }
   ],
   "source": [
    "stock"
   ]
  },
  {
   "cell_type": "code",
   "execution_count": 11,
   "id": "125e86bb",
   "metadata": {},
   "outputs": [
    {
     "name": "stdout",
     "output_type": "stream",
     "text": [
      "<class 'pandas.core.frame.DataFrame'>\n",
      "RangeIndex: 2061655 entries, 0 to 2061654\n",
      "Data columns (total 7 columns):\n",
      " #   Column    Dtype  \n",
      "---  ------    -----  \n",
      " 0   datetime  object \n",
      " 1   symbol    object \n",
      " 2   open      float64\n",
      " 3   high      float64\n",
      " 4   low       float64\n",
      " 5   close     float64\n",
      " 6   volume    float64\n",
      "dtypes: float64(5), object(2)\n",
      "memory usage: 110.1+ MB\n",
      "None \n",
      "\n",
      "               open          high           low         close        volume\n",
      "count  2.061655e+06  2.061655e+06  2.061655e+06  2.061655e+06  2.061655e+06\n",
      "mean   1.193536e+03  1.213093e+03  1.174243e+03  1.193820e+03  2.030658e+07\n",
      "std    3.601599e+03  3.651323e+03  3.550658e+03  3.599773e+03  1.349892e+08\n",
      "min    1.000000e+00  1.000000e+00  1.000000e+00  1.000000e+00  0.000000e+00\n",
      "25%    1.199359e+02  1.230000e+02  1.164185e+02  1.200000e+02  5.250000e+04\n",
      "50%    3.129559e+02  3.200000e+02  3.060000e+02  3.133326e+02  9.373000e+05\n",
      "75%    9.100000e+02  9.250000e+02  8.950000e+02  9.100000e+02  8.710000e+06\n",
      "max    2.261500e+05  2.261500e+05  2.261500e+05  2.261500e+05  4.594176e+10\n"
     ]
    }
   ],
   "source": [
    "print (stock.info(),\"\\n\")\n",
    "print (stock.describe())"
   ]
  },
  {
   "cell_type": "code",
   "execution_count": 12,
   "id": "4cdbfb31",
   "metadata": {},
   "outputs": [
    {
     "name": "stdout",
     "output_type": "stream",
     "text": [
      "<class 'pandas.core.frame.DataFrame'>\n",
      "RangeIndex: 829 entries, 0 to 828\n",
      "Data columns (total 14 columns):\n",
      " #   Column              Non-Null Count  Dtype  \n",
      "---  ------              --------------  -----  \n",
      " 0   Code                829 non-null    object \n",
      " 1   Name                829 non-null    object \n",
      " 2   ListingDate         829 non-null    object \n",
      " 3   Shares              829 non-null    float64\n",
      " 4   ListingBoard        829 non-null    object \n",
      " 5   Sector              829 non-null    object \n",
      " 6   LastPrice           824 non-null    float64\n",
      " 7   MarketCap           824 non-null    float64\n",
      " 8   MinutesFirstAdded   787 non-null    object \n",
      " 9   MinutesLastUpdated  787 non-null    object \n",
      " 10  HourlyFirstAdded    806 non-null    object \n",
      " 11  HourlyLastUpdated   806 non-null    object \n",
      " 12  DailyFirstAdded     824 non-null    object \n",
      " 13  DailyLastUpdated    824 non-null    object \n",
      "dtypes: float64(3), object(11)\n",
      "memory usage: 90.8+ KB\n",
      "None \n",
      "\n",
      "             Shares     LastPrice     MarketCap\n",
      "count  8.290000e+02    824.000000  8.240000e+02\n",
      "mean   1.094694e+10   1363.453883  1.007663e+13\n",
      "std    4.539593e+10   3733.432446  5.053142e+13\n",
      "min    3.600000e+06     25.000000  9.000000e+09\n",
      "25%    1.230840e+09    101.750000  2.975283e+11\n",
      "50%    3.128090e+09    287.000000  1.111305e+12\n",
      "75%    9.327465e+09    975.000000  4.236953e+12\n",
      "max    1.184364e+12  38000.000000  1.012951e+15\n"
     ]
    }
   ],
   "source": [
    "# print (detail.info(),\"\\n\")\n",
    "# print (detail.describe())"
   ]
  },
  {
   "cell_type": "code",
   "execution_count": 13,
   "id": "af63d467",
   "metadata": {},
   "outputs": [
    {
     "name": "stdout",
     "output_type": "stream",
     "text": [
      "stock count : 956\n",
      "stock count : 829\n"
     ]
    }
   ],
   "source": [
    "print (\"stock count :\", stock['symbol'].nunique())\n",
    "# print (\"stock deatail count :\", detail['Code'].nunique())"
   ]
  },
  {
   "cell_type": "markdown",
   "id": "1c0b8c43",
   "metadata": {},
   "source": [
    "## News Data"
   ]
  },
  {
   "cell_type": "code",
   "execution_count": 14,
   "id": "76c5487e",
   "metadata": {},
   "outputs": [
    {
     "data": {
      "text/html": [
       "<div>\n",
       "<style scoped>\n",
       "    .dataframe tbody tr th:only-of-type {\n",
       "        vertical-align: middle;\n",
       "    }\n",
       "\n",
       "    .dataframe tbody tr th {\n",
       "        vertical-align: top;\n",
       "    }\n",
       "\n",
       "    .dataframe thead th {\n",
       "        text-align: right;\n",
       "    }\n",
       "</style>\n",
       "<table border=\"1\" class=\"dataframe\">\n",
       "  <thead>\n",
       "    <tr style=\"text-align: right;\">\n",
       "      <th></th>\n",
       "      <th>date</th>\n",
       "      <th>url</th>\n",
       "      <th>title</th>\n",
       "      <th>category</th>\n",
       "    </tr>\n",
       "  </thead>\n",
       "  <tbody>\n",
       "    <tr>\n",
       "      <th>0</th>\n",
       "      <td>02/26/2020</td>\n",
       "      <td>https://finance.detik.com/berita-ekonomi-bisni...</td>\n",
       "      <td>Kemnaker Awasi TKA di Meikarta</td>\n",
       "      <td>finance</td>\n",
       "    </tr>\n",
       "    <tr>\n",
       "      <th>1</th>\n",
       "      <td>02/26/2020</td>\n",
       "      <td>https://finance.detik.com/berita-ekonomi-bisni...</td>\n",
       "      <td>BNI Digitalkan BNI Java Jazz 2020</td>\n",
       "      <td>finance</td>\n",
       "    </tr>\n",
       "    <tr>\n",
       "      <th>2</th>\n",
       "      <td>02/26/2020</td>\n",
       "      <td>https://finance.detik.com/berita-ekonomi-bisni...</td>\n",
       "      <td>Terbang ke Australia, Edhy Prabowo Mau Genjot ...</td>\n",
       "      <td>finance</td>\n",
       "    </tr>\n",
       "    <tr>\n",
       "      <th>3</th>\n",
       "      <td>02/26/2020</td>\n",
       "      <td>https://finance.detik.com/moneter/d-4916133/oj...</td>\n",
       "      <td>OJK Siapkan Stimulus Ekonomi Antisipasi Dampak...</td>\n",
       "      <td>finance</td>\n",
       "    </tr>\n",
       "    <tr>\n",
       "      <th>4</th>\n",
       "      <td>02/26/2020</td>\n",
       "      <td>https://finance.detik.com/berita-ekonomi-bisni...</td>\n",
       "      <td>Saran Buat Anies-RK yang Mangkir Rapat Banjir ...</td>\n",
       "      <td>finance</td>\n",
       "    </tr>\n",
       "    <tr>\n",
       "      <th>...</th>\n",
       "      <td>...</td>\n",
       "      <td>...</td>\n",
       "      <td>...</td>\n",
       "      <td>...</td>\n",
       "    </tr>\n",
       "    <tr>\n",
       "      <th>91012</th>\n",
       "      <td>02/03/2020</td>\n",
       "      <td>https://travel.detik.com/travel-news/d-4882807...</td>\n",
       "      <td>Ketumpahan Air Panas di Pesawat, Kamu Bisa Tun...</td>\n",
       "      <td>travel</td>\n",
       "    </tr>\n",
       "    <tr>\n",
       "      <th>91013</th>\n",
       "      <td>02/03/2020</td>\n",
       "      <td>https://travel.detik.com/fototravel/d-4882796/...</td>\n",
       "      <td>Foto: Bali &amp; 9 Destinasi Paling Instagramable ...</td>\n",
       "      <td>travel</td>\n",
       "    </tr>\n",
       "    <tr>\n",
       "      <th>91014</th>\n",
       "      <td>02/03/2020</td>\n",
       "      <td>https://travel.detik.com/travel-news/d-4882794...</td>\n",
       "      <td>Game Bikin Turis Ini Liburan ke Jepang untuk.....</td>\n",
       "      <td>travel</td>\n",
       "    </tr>\n",
       "    <tr>\n",
       "      <th>91015</th>\n",
       "      <td>02/03/2020</td>\n",
       "      <td>https://travel.detik.com/travel-news/d-4882792...</td>\n",
       "      <td>Sekeluarga Didepak dari Pesawat, Maskapai Bila...</td>\n",
       "      <td>travel</td>\n",
       "    </tr>\n",
       "    <tr>\n",
       "      <th>91016</th>\n",
       "      <td>02/03/2020</td>\n",
       "      <td>https://travel.detik.com/travel-news/d-4882791...</td>\n",
       "      <td>Kapal Raib di Segitiga Bermuda, Nyaris Seabad ...</td>\n",
       "      <td>travel</td>\n",
       "    </tr>\n",
       "  </tbody>\n",
       "</table>\n",
       "<p>91017 rows × 4 columns</p>\n",
       "</div>"
      ],
      "text/plain": [
       "             date                                                url  \\\n",
       "0      02/26/2020  https://finance.detik.com/berita-ekonomi-bisni...   \n",
       "1      02/26/2020  https://finance.detik.com/berita-ekonomi-bisni...   \n",
       "2      02/26/2020  https://finance.detik.com/berita-ekonomi-bisni...   \n",
       "3      02/26/2020  https://finance.detik.com/moneter/d-4916133/oj...   \n",
       "4      02/26/2020  https://finance.detik.com/berita-ekonomi-bisni...   \n",
       "...           ...                                                ...   \n",
       "91012  02/03/2020  https://travel.detik.com/travel-news/d-4882807...   \n",
       "91013  02/03/2020  https://travel.detik.com/fototravel/d-4882796/...   \n",
       "91014  02/03/2020  https://travel.detik.com/travel-news/d-4882794...   \n",
       "91015  02/03/2020  https://travel.detik.com/travel-news/d-4882792...   \n",
       "91016  02/03/2020  https://travel.detik.com/travel-news/d-4882791...   \n",
       "\n",
       "                                                   title category  \n",
       "0                         Kemnaker Awasi TKA di Meikarta  finance  \n",
       "1                      BNI Digitalkan BNI Java Jazz 2020  finance  \n",
       "2      Terbang ke Australia, Edhy Prabowo Mau Genjot ...  finance  \n",
       "3      OJK Siapkan Stimulus Ekonomi Antisipasi Dampak...  finance  \n",
       "4      Saran Buat Anies-RK yang Mangkir Rapat Banjir ...  finance  \n",
       "...                                                  ...      ...  \n",
       "91012  Ketumpahan Air Panas di Pesawat, Kamu Bisa Tun...   travel  \n",
       "91013  Foto: Bali & 9 Destinasi Paling Instagramable ...   travel  \n",
       "91014  Game Bikin Turis Ini Liburan ke Jepang untuk.....   travel  \n",
       "91015  Sekeluarga Didepak dari Pesawat, Maskapai Bila...   travel  \n",
       "91016  Kapal Raib di Segitiga Bermuda, Nyaris Seabad ...   travel  \n",
       "\n",
       "[91017 rows x 4 columns]"
      ]
     },
     "execution_count": 14,
     "metadata": {},
     "output_type": "execute_result"
    }
   ],
   "source": [
    "news "
   ]
  },
  {
   "cell_type": "code",
   "execution_count": 15,
   "id": "da0395bd",
   "metadata": {},
   "outputs": [
    {
     "name": "stdout",
     "output_type": "stream",
     "text": [
      "<class 'pandas.core.frame.DataFrame'>\n",
      "RangeIndex: 91017 entries, 0 to 91016\n",
      "Data columns (total 4 columns):\n",
      " #   Column    Non-Null Count  Dtype \n",
      "---  ------    --------------  ----- \n",
      " 0   date      91017 non-null  object\n",
      " 1   url       91017 non-null  object\n",
      " 2   title     91017 non-null  object\n",
      " 3   category  91017 non-null  object\n",
      "dtypes: object(4)\n",
      "memory usage: 2.8+ MB\n"
     ]
    }
   ],
   "source": [
    "news.info()"
   ]
  },
  {
   "cell_type": "code",
   "execution_count": 19,
   "id": "cac36cd1",
   "metadata": {},
   "outputs": [
    {
     "name": "stdout",
     "output_type": "stream",
     "text": [
      "['finance' 'food' 'health' 'hot' 'inet' 'news' 'oto' 'sport' 'travel']\n"
     ]
    }
   ],
   "source": [
    "print(news['category'].unique())"
   ]
  },
  {
   "cell_type": "code",
   "execution_count": null,
   "id": "0bbfb034",
   "metadata": {},
   "outputs": [
    {
     "data": {
      "image/png": "[encoded data removed]",
      "text/plain": [
       "<Figure size 1000x600 with 1 Axes>"
      ]
     },
     "metadata": {},
     "output_type": "display_data"
    }
   ],
   "source": [
    "plt.figure(figsize=(10,6))\n",
    "sns.countplot(data=news, x='category', order=news['category'].value_counts().index)\n",
    "plt.xticks(rotation=45)\n",
    "plt.title('News Count by Category')\n",
    "plt.xlabel('Category')\n",
    "plt.ylabel('Count')\n",
    "plt.tight_layout()\n",
    "plt.show()"
   ]
  },
  {
   "cell_type": "markdown",
   "id": "569ba118",
   "metadata": {},
   "source": [
    "# Data Preparation"
   ]
  },
  {
   "cell_type": "markdown",
   "id": "b09cc6be",
   "metadata": {},
   "source": [
    "## Cleaning"
   ]
  },
  {
   "cell_type": "code",
   "execution_count": 20,
   "id": "6016c70f",
   "metadata": {},
   "outputs": [],
   "source": [
    "# cleaning column\n",
    "news = news.drop(columns=['url'])"
   ]
  },
  {
   "cell_type": "code",
   "execution_count": null,
   "id": "f922f1b6",
   "metadata": {},
   "outputs": [],
   "source": [
    "# null values"
   ]
  },
  {
   "cell_type": "markdown",
   "id": "2919f76d",
   "metadata": {},
   "source": [
    "## Transformation"
   ]
  },
  {
   "cell_type": "code",
   "execution_count": null,
   "id": "59d75cb2",
   "metadata": {},
   "outputs": [],
   "source": [
    "#apakah ini udah bener? bakalan ganti gak tuh format datanya\n",
    "news['date'] = pd.to_datetime(news['date'], format='%m/%d/%Y')\n",
    "news['date'] = news['date'].dt.strftime('%Y-%m-%d')\n",
    "#oh bener bisa kerubah"
   ]
  },
  {
   "cell_type": "code",
   "execution_count": null,
   "id": "95645e72",
   "metadata": {},
   "outputs": [
    {
     "data": {
      "text/html": [
       "<div>\n",
       "<style scoped>\n",
       "    .dataframe tbody tr th:only-of-type {\n",
       "        vertical-align: middle;\n",
       "    }\n",
       "\n",
       "    .dataframe tbody tr th {\n",
       "        vertical-align: top;\n",
       "    }\n",
       "\n",
       "    .dataframe thead th {\n",
       "        text-align: right;\n",
       "    }\n",
       "</style>\n",
       "<table border=\"1\" class=\"dataframe\">\n",
       "  <thead>\n",
       "    <tr style=\"text-align: right;\">\n",
       "      <th></th>\n",
       "      <th>date</th>\n",
       "      <th>url</th>\n",
       "      <th>title</th>\n",
       "      <th>category</th>\n",
       "    </tr>\n",
       "  </thead>\n",
       "  <tbody>\n",
       "    <tr>\n",
       "      <th>0</th>\n",
       "      <td>2020-02-26</td>\n",
       "      <td>https://finance.detik.com/berita-ekonomi-bisni...</td>\n",
       "      <td>Kemnaker Awasi TKA di Meikarta</td>\n",
       "      <td>finance</td>\n",
       "    </tr>\n",
       "    <tr>\n",
       "      <th>1</th>\n",
       "      <td>2020-02-26</td>\n",
       "      <td>https://finance.detik.com/berita-ekonomi-bisni...</td>\n",
       "      <td>BNI Digitalkan BNI Java Jazz 2020</td>\n",
       "      <td>finance</td>\n",
       "    </tr>\n",
       "    <tr>\n",
       "      <th>2</th>\n",
       "      <td>2020-02-26</td>\n",
       "      <td>https://finance.detik.com/berita-ekonomi-bisni...</td>\n",
       "      <td>Terbang ke Australia, Edhy Prabowo Mau Genjot ...</td>\n",
       "      <td>finance</td>\n",
       "    </tr>\n",
       "    <tr>\n",
       "      <th>3</th>\n",
       "      <td>2020-02-26</td>\n",
       "      <td>https://finance.detik.com/moneter/d-4916133/oj...</td>\n",
       "      <td>OJK Siapkan Stimulus Ekonomi Antisipasi Dampak...</td>\n",
       "      <td>finance</td>\n",
       "    </tr>\n",
       "    <tr>\n",
       "      <th>4</th>\n",
       "      <td>2020-02-26</td>\n",
       "      <td>https://finance.detik.com/berita-ekonomi-bisni...</td>\n",
       "      <td>Saran Buat Anies-RK yang Mangkir Rapat Banjir ...</td>\n",
       "      <td>finance</td>\n",
       "    </tr>\n",
       "    <tr>\n",
       "      <th>...</th>\n",
       "      <td>...</td>\n",
       "      <td>...</td>\n",
       "      <td>...</td>\n",
       "      <td>...</td>\n",
       "    </tr>\n",
       "    <tr>\n",
       "      <th>91012</th>\n",
       "      <td>2020-02-03</td>\n",
       "      <td>https://travel.detik.com/travel-news/d-4882807...</td>\n",
       "      <td>Ketumpahan Air Panas di Pesawat, Kamu Bisa Tun...</td>\n",
       "      <td>travel</td>\n",
       "    </tr>\n",
       "    <tr>\n",
       "      <th>91013</th>\n",
       "      <td>2020-02-03</td>\n",
       "      <td>https://travel.detik.com/fototravel/d-4882796/...</td>\n",
       "      <td>Foto: Bali &amp; 9 Destinasi Paling Instagramable ...</td>\n",
       "      <td>travel</td>\n",
       "    </tr>\n",
       "    <tr>\n",
       "      <th>91014</th>\n",
       "      <td>2020-02-03</td>\n",
       "      <td>https://travel.detik.com/travel-news/d-4882794...</td>\n",
       "      <td>Game Bikin Turis Ini Liburan ke Jepang untuk.....</td>\n",
       "      <td>travel</td>\n",
       "    </tr>\n",
       "    <tr>\n",
       "      <th>91015</th>\n",
       "      <td>2020-02-03</td>\n",
       "      <td>https://travel.detik.com/travel-news/d-4882792...</td>\n",
       "      <td>Sekeluarga Didepak dari Pesawat, Maskapai Bila...</td>\n",
       "      <td>travel</td>\n",
       "    </tr>\n",
       "    <tr>\n",
       "      <th>91016</th>\n",
       "      <td>2020-02-03</td>\n",
       "      <td>https://travel.detik.com/travel-news/d-4882791...</td>\n",
       "      <td>Kapal Raib di Segitiga Bermuda, Nyaris Seabad ...</td>\n",
       "      <td>travel</td>\n",
       "    </tr>\n",
       "  </tbody>\n",
       "</table>\n",
       "<p>91017 rows × 4 columns</p>\n",
       "</div>"
      ],
      "text/plain": [
       "             date                                                url  \\\n",
       "0      2020-02-26  https://finance.detik.com/berita-ekonomi-bisni...   \n",
       "1      2020-02-26  https://finance.detik.com/berita-ekonomi-bisni...   \n",
       "2      2020-02-26  https://finance.detik.com/berita-ekonomi-bisni...   \n",
       "3      2020-02-26  https://finance.detik.com/moneter/d-4916133/oj...   \n",
       "4      2020-02-26  https://finance.detik.com/berita-ekonomi-bisni...   \n",
       "...           ...                                                ...   \n",
       "91012  2020-02-03  https://travel.detik.com/travel-news/d-4882807...   \n",
       "91013  2020-02-03  https://travel.detik.com/fototravel/d-4882796/...   \n",
       "91014  2020-02-03  https://travel.detik.com/travel-news/d-4882794...   \n",
       "91015  2020-02-03  https://travel.detik.com/travel-news/d-4882792...   \n",
       "91016  2020-02-03  https://travel.detik.com/travel-news/d-4882791...   \n",
       "\n",
       "                                                   title category  \n",
       "0                         Kemnaker Awasi TKA di Meikarta  finance  \n",
       "1                      BNI Digitalkan BNI Java Jazz 2020  finance  \n",
       "2      Terbang ke Australia, Edhy Prabowo Mau Genjot ...  finance  \n",
       "3      OJK Siapkan Stimulus Ekonomi Antisipasi Dampak...  finance  \n",
       "4      Saran Buat Anies-RK yang Mangkir Rapat Banjir ...  finance  \n",
       "...                                                  ...      ...  \n",
       "91012  Ketumpahan Air Panas di Pesawat, Kamu Bisa Tun...   travel  \n",
       "91013  Foto: Bali & 9 Destinasi Paling Instagramable ...   travel  \n",
       "91014  Game Bikin Turis Ini Liburan ke Jepang untuk.....   travel  \n",
       "91015  Sekeluarga Didepak dari Pesawat, Maskapai Bila...   travel  \n",
       "91016  Kapal Raib di Segitiga Bermuda, Nyaris Seabad ...   travel  \n",
       "\n",
       "[91017 rows x 4 columns]"
      ]
     },
     "execution_count": 10,
     "metadata": {},
     "output_type": "execute_result"
    }
   ],
   "source": [
    "news "
   ]
  },
  {
   "cell_type": "code",
   "execution_count": null,
   "id": "d7163e8e",
   "metadata": {},
   "outputs": [
    {
     "name": "stdout",
     "output_type": "stream",
     "text": [
      "Date range in ina_news: 2020-01-01 to 2020-06-13\n"
     ]
    }
   ],
   "source": [
    "print(f\"Date range in ina_news: {ina_news['date'].min()} to {ina_news['date'].max()}\")\n"
   ]
  },
  {
   "cell_type": "code",
   "execution_count": null,
   "id": "f7ab078f",
   "metadata": {},
   "outputs": [
    {
     "data": {
      "text/plain": [
       "('2005-06-30 02:00:00', '2025-07-04 02:00:00')"
      ]
     },
     "execution_count": 12,
     "metadata": {},
     "output_type": "execute_result"
    }
   ],
   "source": [
    "idx_parsial['datetime'].min(), idx_parsial['datetime'].max()"
   ]
  },
  {
   "cell_type": "markdown",
   "id": "c4ab62dd",
   "metadata": {},
   "source": [
    "# Feature Engineering"
   ]
  },
  {
   "cell_type": "markdown",
   "id": "4bb93a83",
   "metadata": {},
   "source": [
    "## Convert Datetime"
   ]
  },
  {
   "cell_type": "code",
   "execution_count": null,
   "id": "d3c8a5a7",
   "metadata": {},
   "outputs": [],
   "source": [
    "# Convert 'datetime' to datetime type and extract date \n",
    "idx_parsial_with_date = idx_parsial.copy()\n",
    "idx_parsial_with_date['date'] = pd.to_datetime(idx_parsial_with_date['datetime']).dt.date\n",
    "pd.set_option('display.max_rows', None)\n",
    "idx_parsial_with_date "
   ]
  },
  {
   "cell_type": "code",
   "execution_count": null,
   "id": "62a64581",
   "metadata": {},
   "outputs": [],
   "source": [
    "#dari si ni belum kebayang euy kudu kumaha, mohon arahanna pak manipulasi data nya harus gimana\n",
    "#kalau aku kebayangnya inituh gini : \n",
    "#1. ubah format tanggal di ina_news dan idx_parsial_with_date supaya sama\n",
    "#2. Setelah ada hubungan antara dua tabel itu, kita bisa join berdasarkan tanggal\n",
    "#3. Belum kebayang bikin modelnya gimana pak caranya"
   ]
  },
  {
   "cell_type": "code",
   "execution_count": null,
   "id": "596e73ec",
   "metadata": {},
   "outputs": [],
   "source": [
    "# Check if there are any 2020 dates in idx_parsial_with_date\n",
    "has_2020 = idx_parsial_with_date['date'].astype(str).str.startswith('2020').any()\n",
    "\n",
    "print(\"Contains 2020 data:\", has_2020)"
   ]
  },
  {
   "cell_type": "code",
   "execution_count": null,
   "id": "a3740003",
   "metadata": {},
   "outputs": [],
   "source": [
    "#Make the idx_parsial_with_date to have the same date range as ina_news\n",
    "date_range = pd.date_range(start=ina_news['date'].min(), end=ina_news['date'].max())\n",
    "idx_parsial_with_date = idx_parsial_with_date[idx_parsial_with_date['date'].isin(date_range)]\n",
    "idx_parsial_with_date\n",
    "\n",
    "# stuck on this part, kenapa kaga bisa join yo? padahal data nya udah pasti ada 2020 \n",
    "#oh jawabannya ketemu, bentuk dari data date nya beda."
   ]
  }
 ],
 "metadata": {
  "kernelspec": {
   "display_name": ".venv",
   "language": "python",
   "name": "python3"
  },
  "language_info": {
   "codemirror_mode": {
    "name": "ipython",
    "version": 3
   },
   "file_extension": ".py",
   "mimetype": "text/x-python",
   "name": "python",
   "nbconvert_exporter": "python",
   "pygments_lexer": "ipython3",
   "version": "3.12.4"
  }
 },
 "nbformat": 4,
 "nbformat_minor": 5
}
